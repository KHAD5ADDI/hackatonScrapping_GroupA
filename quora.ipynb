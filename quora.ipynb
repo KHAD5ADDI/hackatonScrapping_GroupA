{
 "cells": [
  {
   "cell_type": "markdown",
   "metadata": {},
   "source": [
    "## quora\n"
   ]
  },
  {
   "cell_type": "code",
   "execution_count": 1,
   "metadata": {},
   "outputs": [],
   "source": [
    "from selenium import webdriver\n",
    "from selenium.webdriver.common.by import By\n",
    "from selenium.webdriver.chrome.service import Service\n",
    "from selenium.webdriver.support.ui import WebDriverWait\n",
    "from selenium.webdriver.support import expected_conditions as EC\n",
    "from selenium.common.exceptions import TimeoutException, NoSuchElementException\n",
    "from selenium.webdriver.support.ui import WebDriverWait\n",
    "from selenium.webdriver.support import expected_conditions as EC\n",
    "import time\n",
    "import requests as req\n",
    "import re\n",
    "import time\n",
    "from bs4 import BeautifulSoup\n",
    "from webdriver_manager.chrome import ChromeDriverManager\n",
    "import pandas as pd\n"
   ]
  },
  {
   "cell_type": "code",
   "execution_count": 2,
   "metadata": {},
   "outputs": [],
   "source": [
    "sujets = [\"Technology\", \"Science\",\"football\", \"Hollywood\",\"sports\",\"france\"]\n",
    "\n"
   ]
  },
  {
   "cell_type": "code",
   "execution_count": 3,
   "metadata": {},
   "outputs": [],
   "source": [
    "\n",
    "service = Service(ChromeDriverManager().install())\n",
    "\n"
   ]
  },
  {
   "cell_type": "code",
   "execution_count": 4,
   "metadata": {},
   "outputs": [
    {
     "ename": "NameError",
     "evalue": "name 'ElementClickInterceptedException' is not defined",
     "output_type": "error",
     "traceback": [
      "\u001b[1;31m---------------------------------------------------------------------------\u001b[0m",
      "\u001b[1;31mTimeoutException\u001b[0m                          Traceback (most recent call last)",
      "Cell \u001b[1;32mIn[4], line 39\u001b[0m\n\u001b[0;32m     38\u001b[0m \u001b[38;5;28;01mtry\u001b[39;00m:\n\u001b[1;32m---> 39\u001b[0m         element \u001b[38;5;241m=\u001b[39m \u001b[43mWebDriverWait\u001b[49m\u001b[43m(\u001b[49m\u001b[43mdriver\u001b[49m\u001b[43m,\u001b[49m\u001b[43m \u001b[49m\u001b[38;5;241;43m10\u001b[39;49m\u001b[43m)\u001b[49m\u001b[38;5;241;43m.\u001b[39;49m\u001b[43muntil\u001b[49m\u001b[43m(\u001b[49m\u001b[43mEC\u001b[49m\u001b[38;5;241;43m.\u001b[39;49m\u001b[43melement_to_be_clickable\u001b[49m\u001b[43m(\u001b[49m\u001b[43m(\u001b[49m\u001b[43mBy\u001b[49m\u001b[38;5;241;43m.\u001b[39;49m\u001b[43mCSS_SELECTOR\u001b[49m\u001b[43m,\u001b[49m\u001b[43m \u001b[49m\u001b[38;5;124;43mf\u001b[39;49m\u001b[38;5;124;43m'\u001b[39;49m\u001b[38;5;124;43m#mainContent > div.q-box.qu-mt--small > div > div > div:nth-child(\u001b[39;49m\u001b[38;5;132;43;01m{\u001b[39;49;00m\u001b[43mi\u001b[49m\u001b[38;5;132;43;01m}\u001b[39;49;00m\u001b[38;5;124;43m) > div > div > div > div > div > div > div > div:nth-child(1) > div.q-box > div > div > div > div.q-click-wrapper.qu-display--block.qu-tapHighlight--none.qu-cursor--pointer.ClickWrapper___StyledClickWrapperBox-zoqi4f-0.daLTSH > div.q-box.spacing_log_answer_content.puppeteer_test_answer_content > div > div > div > div\u001b[39;49m\u001b[38;5;124;43m'\u001b[39;49m\u001b[43m)\u001b[49m\u001b[43m)\u001b[49m\u001b[43m)\u001b[49m\n\u001b[0;32m     40\u001b[0m         element\u001b[38;5;241m.\u001b[39mclick()\n",
      "File \u001b[1;32mc:\\Users\\khadi\\AppData\\Local\\Programs\\Python\\Python312\\Lib\\site-packages\\selenium\\webdriver\\support\\wait.py:105\u001b[0m, in \u001b[0;36mWebDriverWait.until\u001b[1;34m(self, method, message)\u001b[0m\n\u001b[0;32m    104\u001b[0m         \u001b[38;5;28;01mbreak\u001b[39;00m\n\u001b[1;32m--> 105\u001b[0m \u001b[38;5;28;01mraise\u001b[39;00m TimeoutException(message, screen, stacktrace)\n",
      "\u001b[1;31mTimeoutException\u001b[0m: Message: \nStacktrace:\n\tGetHandleVerifier [0x00BF4CA3+225091]\n\t(No symbol) [0x00B24DF1]\n\t(No symbol) [0x009C9A7A]\n\t(No symbol) [0x00A0175B]\n\t(No symbol) [0x00A0188B]\n\t(No symbol) [0x00A37882]\n\t(No symbol) [0x00A1F5A4]\n\t(No symbol) [0x00A35CB0]\n\t(No symbol) [0x00A1F2F6]\n\t(No symbol) [0x009F79B9]\n\t(No symbol) [0x009F879D]\n\tsqlite3_dbdata_init [0x01069A43+4064547]\n\tsqlite3_dbdata_init [0x0107104A+4094762]\n\tsqlite3_dbdata_init [0x0106B948+4072488]\n\tsqlite3_dbdata_init [0x00D6C9A9+930953]\n\t(No symbol) [0x00B307C4]\n\t(No symbol) [0x00B2ACE8]\n\t(No symbol) [0x00B2AE11]\n\t(No symbol) [0x00B1CA80]\n\tBaseThreadInitThunk [0x75087BA9+25]\n\tRtlInitializeExceptionChain [0x7737BE3B+107]\n\tRtlClearBits [0x7737BDBF+191]\n",
      "\nDuring handling of the above exception, another exception occurred:\n",
      "\u001b[1;31mNameError\u001b[0m                                 Traceback (most recent call last)",
      "Cell \u001b[1;32mIn[4], line 41\u001b[0m\n\u001b[0;32m     39\u001b[0m         element \u001b[38;5;241m=\u001b[39m WebDriverWait(driver, \u001b[38;5;241m10\u001b[39m)\u001b[38;5;241m.\u001b[39muntil(EC\u001b[38;5;241m.\u001b[39melement_to_be_clickable((By\u001b[38;5;241m.\u001b[39mCSS_SELECTOR, \u001b[38;5;124mf\u001b[39m\u001b[38;5;124m'\u001b[39m\u001b[38;5;124m#mainContent > div.q-box.qu-mt--small > div > div > div:nth-child(\u001b[39m\u001b[38;5;132;01m{\u001b[39;00mi\u001b[38;5;132;01m}\u001b[39;00m\u001b[38;5;124m) > div > div > div > div > div > div > div > div:nth-child(1) > div.q-box > div > div > div > div.q-click-wrapper.qu-display--block.qu-tapHighlight--none.qu-cursor--pointer.ClickWrapper___StyledClickWrapperBox-zoqi4f-0.daLTSH > div.q-box.spacing_log_answer_content.puppeteer_test_answer_content > div > div > div > div\u001b[39m\u001b[38;5;124m'\u001b[39m)))\n\u001b[0;32m     40\u001b[0m         element\u001b[38;5;241m.\u001b[39mclick()\n\u001b[1;32m---> 41\u001b[0m \u001b[38;5;28;01mexcept\u001b[39;00m \u001b[43mElementClickInterceptedException\u001b[49m:\n\u001b[0;32m     42\u001b[0m         \u001b[38;5;28;01mpass\u001b[39;00m\n\u001b[0;32m     45\u001b[0m \u001b[38;5;66;03m# Obtenir le contenu de la page après avoir cliqué sur le bouton \"plus\"\u001b[39;00m\n",
      "\u001b[1;31mNameError\u001b[0m: name 'ElementClickInterceptedException' is not defined"
     ]
    }
   ],
   "source": [
    "\n",
    "question_list = []\n",
    "answer_list = []\n",
    "sujet_list = [] \n",
    "for sujet in sujets :\n",
    "        driver = webdriver.Chrome(service=service) \n",
    "        driver.get(f\"https://fr.quora.com/topic/{sujet}\")\n",
    "        \n",
    "        try:\n",
    "                not_found_element = driver.find_element(By.CSS_SELECTOR, '#mainContent > div > div > div > div.q-text.qu-dynamicFontSize--large.qu-fontWeight--bold.qu-color--gray_dark_dim.qu-passColorToLinks.qu-lineHeight--regular.qu-wordBreak--break-word > span > span')\n",
    "                print(f\"Le sujet {sujet} n'existe pas.\")\n",
    "                continue \n",
    "        except NoSuchElementException:\n",
    "                pass\n",
    "        \n",
    "\n",
    "        time.sleep(5)\n",
    "        \n",
    "        wait = WebDriverWait(driver, 11)\n",
    "\n",
    "        for i in range(1, 50):\n",
    "                \n",
    "                try:\n",
    "                        elements = wait.until(EC.presence_of_all_elements_located((By.CSS_SELECTOR, f'#mainContent > div.q-box.qu-mt--small > div > div > div:nth-child({i}) > div > div > div > div > div > div > div > div:nth-child(1) > div.q-box > div > div > div > div.q-click-wrapper.qu-display--block.qu-tapHighlight--none.qu-cursor--pointer.ClickWrapper___StyledClickWrapperBox-zoqi4f-0.daLTSH')))\n",
    "                except TimeoutException:\n",
    "                        continue  # passer à l'itération suivante de la boucle si l'élément n'est pas trouvé\n",
    "                for element in elements:\n",
    "                # Cliquer sur le bouton \"plus\" si présent\n",
    "                        html_content = driver.page_source\n",
    "\n",
    "    # Utiliser BeautifulSoup pour analyser le nouveau contenu de la page\n",
    "                        soup = BeautifulSoup(html_content, 'html.parser')\n",
    "\n",
    "    # Trouver la question et la réponse associées à l'élément\n",
    "                        question_element = soup.select_one(f'#mainContent > div.q-box.qu-mt--small > div > div > div:nth-child({i}) > div > div > div > div > div > div > div > div:nth-child(1) > div.q-box > div > div > div > div.q-click-wrapper.qu-display--block.qu-tapHighlight--none.qu-cursor--pointer.ClickWrapper___StyledClickWrapperBox-zoqi4f-0.daLTSH > div.q-box.qu-mb--tiny > div > span > span > div > div > div > span > span')\n",
    "                        question = question_element.get_text().strip() if question_element is not None else \"\"\n",
    "                        time.sleep(1)  # Attendre que le contenu s'affiche\n",
    "            \n",
    "                        try:\n",
    "                                element = WebDriverWait(driver, 10).until(EC.element_to_be_clickable((By.CSS_SELECTOR, f'#mainContent > div.q-box.qu-mt--small > div > div > div:nth-child({i}) > div > div > div > div > div > div > div > div:nth-child(1) > div.q-box > div > div > div > div.q-click-wrapper.qu-display--block.qu-tapHighlight--none.qu-cursor--pointer.ClickWrapper___StyledClickWrapperBox-zoqi4f-0.daLTSH > div.q-box.spacing_log_answer_content.puppeteer_test_answer_content > div > div > div > div')))\n",
    "                                element.click()\n",
    "                        except ElementClickInterceptedException:\n",
    "                                pass\n",
    "                        \n",
    "\n",
    "                        # Obtenir le contenu de la page après avoir cliqué sur le bouton \"plus\"\n",
    "                        answer_element = soup.select_one(f'#mainContent > div.q-box.qu-mt--small > div > div > div:nth-child({i}) > div > div > div.q-box > div > div > div > div > div:nth-child(1) > div.q-box > div > div > div > div.q-click-wrapper.qu-display--block.qu-tapHighlight--none.ClickWrapper___StyledClickWrapperBox-zoqi4f-0.daLTSH > div.q-box.spacing_log_answer_content.puppeteer_test_answer_content')\n",
    "                        answer = answer_element.get_text().strip() if answer_element is not None else \"\"\n",
    "                        answer = re.sub(r'\\(plus\\)$', '', answer)\n",
    "                        answer = re.sub(r'[^\\.]*$', '', answer)\n",
    "                        time.sleep(2)\n",
    "                        question_list.append(question)\n",
    "                        answer_list.append(answer)\n",
    "                        sujet_list.append(sujet) \n",
    "                        time.sleep(2)\n",
    "                        \n",
    "        driver.quit()    \n",
    "\n",
    "           \n",
    "            \n",
    "        \n",
    "      "
   ]
  },
  {
   "cell_type": "code",
   "execution_count": 6,
   "metadata": {},
   "outputs": [],
   "source": [
    "import csv\n",
    "with open('quorascrap.csv', 'w', newline='', encoding='utf-8') as file:\n",
    "    writer = csv.writer(file)\n",
    "    writer.writerow([\"Sujet\",\"Question\", \"Réponse\"])\n",
    "    for i in range(len(question_list)):\n",
    "        writer.writerow([sujet_list[i],question_list[i], answer_list[i]])"
   ]
  },
  {
   "cell_type": "code",
   "execution_count": null,
   "metadata": {},
   "outputs": [
    {
     "name": "stdout",
     "output_type": "stream",
     "text": [
      "['Comment Steve Jobs est-il devenu si doué pour faire des présentations ?', 'Quelles sont les astuces informatiques pas très bien connues ?', 'Si le débit Internet augmente et que la taille moyenne des fichiers aussi, ne sommes-nous pas condamnés à toujours télécharger pendant la même durée ?', \"Regrettez-vous d'avoir acheté un produit Apple (iPhone, iPad, iMac, MacBook…) ?\", 'Quelle est la raison la plus commune pour laquelle les startups technologiques échouent ?', 'Comment David Hahn, 17 ans, a-t-il construit un prototype de réacteur nucléaire dans son jardin ?', \"Quelle invention a changé la façon de vivre de l'homme ?\", 'Quel est le gadget technologique le plus horrible que vous ayez acheté ?', \"A quel point est-il difficile d'attraper des hackers ?\", \"Serait-il possible de faire exploser des planètes comme dans les films ? De combien d'énergie aurions-nous besoin pour faire exploser la Terre ?\", 'Pourquoi les casinos sur internet sont si populaires ?', 'Que serait le monde sans la technologie ?', 'Quelles sont les astuces informatiques pas très bien connues ?', 'Sommes-nous addict à la technologie ?', \"Pensez-vous que de notre vivant quelqu'un ou un groupe d'individus arrivera à provoquer une singularité technologique ?\", 'Quels sont les faits surprenants sur Google ?', 'Est ce qu’on peut se faire espionner par la caméra de notre ordinateur ?', 'Pourquoi la guerre est parfois indispensable ?', \"Pourquoi les ordinateurs deviennent-ils lents après un certain temps, même après la réinitialisation d'usine ou le formatage du disque dur ?\", \"Pensez-vous que de notre vivant quelqu'un ou un groupe d'individus arrivera à provoquer une singularité technologique ?\", 'À quel point sous-estimons-nous la singularité technologique ?', \"A quel point est-il difficile d'attraper des hackers ?\", 'La RAM est-elle le type de mémoire le plus rapide ?', 'Quand allons-nous dépasser ~ 3-5 GHz pour les vitesses de processeur pour le consommateur moyen ?', 'Connaissez-vous des langages de programmation très bons mais peu populaires ?', 'La Chine a-t-elle officiellement comblé le fossé technologique avec les États-Unis ?', 'Which new technology changed the word overnight ?', 'À quel point sous-estimons-nous la singularité technologique ?', \"Elon Musk a-t-il raison de dire qu'il n'y aura pas de fusée électrique à cause de la troisième loi de Newton ?\", 'À quoi ressemblait un ordinateur portable dans les années 1970 ?', \"Qu’est-ce qu'une guerre entre la Chine et Taïwan signifirait pour le monde de la Tech ?\", 'Quels sont les faits étonnants liés à Google ?', 'Le féminisme est-il une menace pour la société ?', 'Pourquoi la 5G interfère-t-elle avec les avions ?', 'Le monde entier reste immobile pour un jour, mais pas toi. Que fais-tu ?', \"Comment les données peuvent-elles être compressées quand il s'agit physiquement de ce nombre d'octets de mémoire ?\", 'Comment Google Maps parvient-il à donner des informations en temps réel sur le trafic routier ?', 'Pour un Britannique ayant voyagé aux États-Unis, quels sont les progrès technologiques qui vous impressionnent le plus ?', 'A quel point les aimants sont-ils dangereux pour les disques durs SSD ?', 'Quelle est la différence entre les batteries à semi-conducteurs et les batteries lithium-ion en termes de performance et de durabilité ?', 'Quel brillant innovateur la plupart des gens ne connaissent-ils pas ?', 'À quel point sous-estimons-nous la singularité technologique ?', 'Quels sont les aspects négatifs de la vie en Suisse ?', \"Pourquoi les ordinateurs deviennent-ils lents après un certain temps, même après la réinitialisation d'usine ou le formatage du disque dur ?\", 'Comment David Hahn, 17 ans, a-t-il construit un réacteur nucléaire dans sa cour arrière ?', \"Puis-je endommager mes appareils électriques en les débranchant lorsqu'ils sont allumés ?\", 'Où en sommes-nous de la singularité technologique ?', 'Quelles sont les astuces informatiques pas très bien connues ?', 'Quels sont des exemples fascinants de technologie ancienne ou médiévale ?', \"Quelles sont les expériences les plus effrayantes de l'histoire de l'humanité ?\", 'Quel fait psychologique vous a le plus impressionné(e) ?', \"Quelles sont les expériences scientifiques les plus tordues de l'histoire ?\", 'Niels Bohr a dit : \"Quiconque n\\'est pas choqué par la théorie des quanta ne l\\'a pas comprise.\" Qu\\'est-ce qui rend la théorie des quanta choquante ?', \"Quelle est la chose horrible que vous ignoriez jusqu'à aujourd'hui ?\", \"Y a-t-il une position permettant de survivre à une chute libre se terminant dans l'eau ?\", 'Quelles expériences scientifiques bizarres sont en cours en ce moment ?', \"Est-il vrai que tout l'or de notre planète vient de l'explosion d'une supernova, il y a plusieurs milliards d'années ? Si oui, comment les scientifiques savent que c'est vrai ?\", \"Quelle photo nous montre quelque chose que n'avons pas l'habitude de voir sous cet angle ?\", 'Qu\\'est-ce que la mort \"instantanée\" chez un humain ? À quelle vitesse se produit-elle réellement ?', 'Qui est la personne la plus monstrueuse à avoir vécu sur Terre ?', \"Pouvez-vous m'expliquer la théorie des cordes comme si j'avais 10 ans ?\", 'Quelles sont les inventions historiques les plus intéressantes mais peu connues ?', 'Quelles idées en astrophysique ont été manifestement mal interprétées par le grand public ?', 'Que se passerait-il si toutes les molécules d’eau sur Terre avaient un atome supplémentaire ?', \"Pourquoi Einstein est-il un symbole d'intelligence alors qu'il y a eu des physiciens plus intelligents ?\", \"Si 1 000 milliards de seaux d'eau étaient déversés simultanément sur le Soleil, que se passerait-il ?\", 'Comment expliquez-vous le \"solipsisme\" ? Que pensez-vous de cette théorie ?', \"Si le Big Bang à 13, 7 milliards d'années, qu'avait-il y a 14 milliards d'années, y a 100 milliards d'années ?\", \"Y a-t-il une preuve que la théorie de la relativité d'Einstein est fausse ?\", 'Est-il possible d’être avalé par une baleine et de survivre ?', \"Pourquoi l'hydroxychloroquine n'est pas encore approuvé pour traiter le Coronavirus ?\", 'Connaissez-vous quelque chose de simple mais qui a en réalité une grande complexité ?', \"Quel scientifique a sauvé l'humanité en cherchant à la détruire ?\", 'Y a-t-il un endroit sur Terre qui défie les lois de la gravité ?', \"Combien de photons par seconde sortent de la flamme d'une bougie ?\", \"Quels faits paraissent faux alors qu'ils sont bel et bien vrais?\", 'Quelles sont les meilleures inventions qui ne sont pas assez connues ?', \"Si j'avance à la vitesse de la lumière, et que je jette un caillou devant moi, ce caillou n'irait-il pas plus vite que la vitesse de la lumière ?\", 'Comment l’univers peut t-il être en expansion s’il est infini ?', 'Pourquoi la plupart des gens accordent autant d’importance à l’apparence dans la recherche de l’être aimé ?', 'Existe-t-il une preuve irréfutable de la vie après la mort ?', \"Est-il vrai qu'Einstein comprenait les choses lentement ?\", \"Comment expliquer tous les fait scientifiques incroyable que le Coran a prédit des siècles avant leurs découvertes ? (le hasard sa compte plus à se niveau la y'en a trop)\", \"Comment démontrer qu'une chose n'existe pas ?\", 'Quelles sont cinq choses que nous ne savons probablement pas sur les autopsies ?', \"Selon certaines hypothèses, l'univers pourrait être virtuel. Comment cela se pourrait-il ?\", \"Est-ce que plonger sous l'eau avec un bateau à l'envers comme Jack Sparrow fonctionnerait réellement ?\", \"Quels sont des exemples de personnes ou d'animaux qui défient la biologie ?\", \"Le regretté Stephen Hawking a dit qu'il n'y avait rien avant le Big Bang. Comment quelque chose peut sortir de rien ?\", 'Comment expliquer la théorie de la relativité générale à sa grand-mère ?', \"Qu'est-ce qui est étonnamment différent de ce à quoi on pourrait s'attendre en le mettant sous un microscope ?\", \"Puisque l'univers n'a que 13 milliards d'années et demi, comment est-il possible que nous puissions apercevoir des galaxies à 14 milliards d'années-lumière ?\", \"L'évolution dit que les Blancs ont évolué à partir des Noirs, mais cela pourrait-il être l'inverse ? Les scientifiques peuvent-ils prouver que les Noirs n'ont pas évolué à partir des Blancs ?\", \"Si vous voyiez un tsunami déferler vers vous, disons des vagues de 15 m, serait-il préférable de courir vers l'intérieur des terres, ou simplement rester où vous êtes, plonger puis nager vers la surface ?\", \"Quelle est la chose la plus radioactive ayant jamais été créée par l'homme ?\", \"Est-il possible que personne ne soit derrière le « bon agencement » apparent de l'univers, de l'ADN, etc?\", \"Est-ce que la toute première étoile de l'Univers a s'être formée existe encore ? Que sait-on d'elle ?\", \"Qu'est-ce qui se passe quand nous dormons ?\", \"Comment les entraîneurs entraînent-ils leurs athlètes si l'athlète est meilleur qu'eux ?\", \"Qui sont les 5 meilleurs footballeurs dans l'histoire ?\", 'La ville de Berlin a-t-elle mis en place des zones sûres pour les femmes pour le Nouvel An 2017/2018 ?', 'Qui est le meilleur joueur de football français de tous les temps ?', 'Quelle est la faute la plus controversée commise par une figure sportive légendaire ?', \"Quelles sont les pires tricheries dans l'histoire du sport ?\", 'Que-pensez vous de l’affaire Adama Traoré ?', \"Quel sportif ou équipe était considéré comme imbattable et finalement quelqu'un a trouvé la solution ? Comment ont-ils fait la différence avec les précédents qui n'ont pas réussi ?\", 'Que vous inspirent les chaos au stade de France samedi 28 mai et à Saint Étienne le dimanche 29 mai ?', 'Pourquoi les joueurs de foot font tant de cinéma sur la pelouse quand ils sont bousculés ?', 'Est-ce que Mbappe va devenir le meilleur joueur de tous les temps ?', 'Que signifie « G.O.A.T » dans le football ?', \"Beaucoup d'experts et analystes occidentaux voyaient une victoire russe rapide - pourquoi se sont-ils trompés à ce point ?\", 'Pourquoi l’esprit du rugby est-il plus sain que celui du football ?', \"Quel est le niveau d'étude des joueurs de l'équipe de France de football ?\", 'Qui est le meilleur joueur de football français de tous les temps ?', 'Que est votre top 30 des meilleurs joueurs de foot de tous les temps ?', 'Que s’est-il passé avec Icardi à l’Inter ?', 'Qui est le meilleur entraîneur de football dans le football international ?', 'Pourquoi Cristiano Ronaldo est-il si gentille ?', \"Pourquoi la Covid-19 est-elle plus important que les 98 causes de mort plus probable que tout le monde s'en fout ?\", 'Quels ont été les moments les plus inappropriés dans le sport ?', \"Le Rapporteur du Conseil d'Etat favorable au hijab dans le sport. Quel est ce combat ?\", \"Pourquoi les plus grands boxeurs n'ont-ils pas pu vaincre Mike Tyson ? Les experts disent que la taille et la portée comptent.\", 'À son apogée, Steven Seagal aurait-il eu une chance dans un combat amateur MMA ?', 'Quelle est la meilleure façon de se muscler à la maison ?', \"Pourquoi les soldats modernes semblent-ils plus musclés que les soldats d'il y a 50 ans ?\", \"Comment les entraîneurs entraînent-ils leurs athlètes si l'athlète est meilleur qu'eux ?\", \"Qu'advient-il des muscles lorsqu'on fait de la musculation avec des poids lourds mais qu'on mange avec un déficit calorique ?\", 'Pourquoi est-il illégal de jouer aux échecs avec les deux mains ?', 'Faites-vous du sport régulièrement avec votre conjoint ?', 'Pourquoi le comité olympique a-t-il interdit un bonnet de bain amélioré pour les cheveux afro ?', 'Est ce intéressant d investir dans les paris sportifs car je suis passionné de sport et moins en bourses ?', 'Quel sport de combat ou arts martiaux est le plus efficace en MMA aujourd’hui ?', \"Pourquoi les plus grands boxeurs n'ont-ils pas pu vaincre Mike Tyson ? Les experts disent que la taille et la portée comptent.\", 'Comment puis-je perdre du poids sans faire de sport ?', 'Vous avez entendu parler de gars de MMA qui battent des maîtres de kung fu, mais pourquoi tout cela a-t-il commencé ?', \"Usain Bolt est-il l'homme le plus rapide du monde parce qu'il maîtrise la technique et la stratégie de course ?\", 'Pourquoi la boxe à mains nues (bare Knuckle) est-elle un sport de combat profondément britannique ?', 'Quel est le plus beau geste que vous ayez vu un athlète faire ?', 'Quel art martial choisir quand on débute dans les sports de combat ?', 'Quel sport de combat ou art martial est le plus \"réaliste\" et efficace entre Taekwondo, Karaté and Krav Maga pour se défendre en cas de problème ?', 'Quels sont les muscles les plus faciles et les plus difficiles à développer ?', 'Quelle est la différence entre sport de combat et art martial ?', \"À quel âge quelqu'un qui aurait fait de la musculation toute sa vie verrait-il sa force déclinée ?\", 'Quel est le tricheur qui a le mieux réussi dans le domaine du sport ?', 'Pourquoi le sport féminin existe-t-il alors que les femmes sont les égales des hommes ?', 'Vous entrez dans une salle. Il y a 27 personnes. Vous tuez 20 personnes. Combien reste-t-il de personnes vivantes dans la salle ?', 'Comment mettre fin à un combat de rue le plus rapidement possible ?', 'Quelle est la faute la plus controversée commise par une figure sportive légendaire ?', 'Pourquoi tant de boxeurs moyens semblent-ils avoir une mauvaise opinion des autres arts martiaux ?', \"Si vous faites du parachutisme et que votre parachute ne s'ouvre pas, est-il préférable de viser l'eau ? Quelles sont vos chances de survie ?\", 'Si le cardio vous rend maigre, alors pourquoi les nageurs et les cyclistes sont-ils musclés ?', 'Comment puis-je me débarrasser de la graisse du bas-ventre ? Puis-je faire des exercices abdominaux ?', \"Quelles sont les pires tricheries dans l'histoire du sport ?\", 'Que-pensez vous de l’affaire Adama Traoré ?', \"Quel sportif ou équipe était considéré comme imbattable et finalement quelqu'un a trouvé la solution ? Comment ont-ils fait la différence avec les précédents qui n'ont pas réussi ?\", 'Quel est le meilleur arc ?', 'Pourquoi je ne perd pas de poids même en faisant du sport tous les jours ?', 'Y a-t-il des sports où les femmes sont aussi fortes, voire meilleures que les hommes ?', 'Le port de chaussures de course médiocres peut-il ajouter des secondes voire des minutes à votre temps de course de 5 km ou 10 km ? Pourquoi ou pourquoi pas ?', 'Que va-t-il se passer si je fais 100 pompes par jour pendant 3 mois ?', 'Comment devenir muscler pour un ectomorphe ?', 'Que vous inspirent les chaos au stade de France samedi 28 mai et à Saint Étienne le dimanche 29 mai ?', 'Pourquoi et comment le jeûne intermittent peut changer votre vie ?', 'Est-il bon de faire des pompes tous les jours ?', 'Que pensez-vous du programme musculation de Chloe Ting (abdos en 2 semaines) ?', 'Est-il dangereux de faire du sport tous les jours ?', 'Pourquoi tant de gens considèrent Mike Tyson comme le meilleur poids lourd de tous les temps ?', \"Pourquoi la France ne s'excuse-t-elle pas une bonne fois pour toutes pour la colonisation vis à vis de l'Algérie ?\", \"Si vous venez d'un pays qui a été colonisé dans le passé, pensez-vous que la nation colonisatrice devrait avoir à payer des réparations à votre pays ?\", 'Que feriez-vous si le voile devient obligatoire en France demain ?', 'De quoi est-ce que les Français devraient être fiers ?', 'Les Français détestent-ils le hijab et le niqab ?', \"Pourquoi la France refuse d'accepter que les Africains n'ont pas besoin de la France ?\", \"Pourquoi certains français osent-ils penser qu'ils ont le droit de blasphémer l'islam ?\", \"Pourquoi les Français n'arrivent-ils pas à accepter la religion musulmane ?\", \"Y aurait-il moins d'immigration clandestine si on supprimait toutes les allocations ?\", \"Comment devenir un bon Français integré si on est maghrébin ? S'imposer vis à vis des français ?\", 'En tant que Français comment percevez-vous les Africains et leur intégration à la France ?', \"Pourquoi il y a tant d'Africains qui font briller la France ?\", 'Pourquoi les migrants de Lampedusa se rendent-ils en France précisément ?', 'La France se rend-elle compte que sa persécution des musulmans est pareille que la persécution des juifs dans les années 30?', \"La France a t'elle une honte particulière ? Pourquoi semble t'il plus compliqué d'être un français fier que d'être un italien fier, un chinois fier, un malien fier, etc ?\", \"L'immigration, est-elle la principale cause d'insécurité en France ?\", \"Est-il vrai que dans les prisons françaises, il y a plus d'Algériens que tous les européens réunis ?\", 'Les Bisounours qui n\\'ont que le mot \"solidarité\" à la bouche ne vont-ils pas faire couler la barque de la République française sous l\\'immigration ?', \"Pourquoi les Français se plaignent-ils des immigrants africains, arabes, musulmans, et ne veulent-ils pas adopter leur mode de vie ? La France, le soi-disant pays des droits de l'homme, serait-elle raciste et xénophobe ?\", \"Quel est l'équivalent d'Hitler en France ?\", 'Pourquoi la France rejette t’ils les migrants qui viens ce chercher dans sa pays européen ?', \"Pourquoi l'Allemagne a-t-elle pardonné à la France d'avoir volé le territoire ethno-linguistiquement allemand d'Alsace-Lorraine ?\", 'Pourquoi la France refuse-t-elle de renoncer aux caricatures ? Ne serait-il pas mieux ainsi pour éviter tous ces attentats terroristes ?']\n"
     ]
    }
   ],
   "source": [
    "print(question_list)"
   ]
  }
 ],
 "metadata": {
  "kernelspec": {
   "display_name": "Python 3",
   "language": "python",
   "name": "python3"
  },
  "language_info": {
   "codemirror_mode": {
    "name": "ipython",
    "version": 3
   },
   "file_extension": ".py",
   "mimetype": "text/x-python",
   "name": "python",
   "nbconvert_exporter": "python",
   "pygments_lexer": "ipython3",
   "version": "3.12.0"
  }
 },
 "nbformat": 4,
 "nbformat_minor": 2
}
